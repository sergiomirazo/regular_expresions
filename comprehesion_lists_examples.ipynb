{
 "cells": [
  {
   "cell_type": "markdown",
   "metadata": {},
   "source": [
    "Regular expresions and list comprehension examples"
   ]
  },
  {
   "cell_type": "markdown",
   "metadata": {},
   "source": [
    "1. Validate email addresses in a list using regex and list comprehension.\n"
   ]
  },
  {
   "cell_type": "code",
   "execution_count": 3,
   "metadata": {},
   "outputs": [
    {
     "name": "stdout",
     "output_type": "stream",
     "text": [
      "['gisel@sems.edu.gob.mx', 'itsel@arjeclub.org']\n"
     ]
    }
   ],
   "source": [
    "import re\n",
    "emails = [\"test.email/net\", \"gisel@dgeti.sems.gob.mx\",\"test.email.leet\", \"itsel@arjeclub.org\"]\n",
    "valid_emails = [i for i in emails if re.fullmatch(r'\\b[A-Za-z0-9._]+@[A-Za-z0-9.-]+\\.[A-Z|a-z]{2,}\\b', i)]\n",
    "print(valid_emails)\n"
   ]
  },
  {
   "cell_type": "markdown",
   "metadata": {},
   "source": [
    "2. Find all the digits in a list of strings."
   ]
  },
  {
   "cell_type": "code",
   "execution_count": 9,
   "metadata": {},
   "outputs": [
    {
     "name": "stdout",
     "output_type": "stream",
     "text": [
      "['3000', '', '1234']\n"
     ]
    }
   ],
   "source": [
    "strings = [\"banana3000\", \"world\", \"1234\"]\n",
    "digits = [\"\".join(re.findall('\\d', s)) for s in strings]\n",
    "print(digits)\n"
   ]
  },
  {
   "cell_type": "markdown",
   "metadata": {},
   "source": [
    "3. Replace all the occurrences of a specific character in strings of a list."
   ]
  },
  {
   "cell_type": "code",
   "execution_count": 7,
   "metadata": {},
   "outputs": [
    {
     "name": "stdout",
     "output_type": "stream",
     "text": [
      "['T0day', 'is', 'a', 'g00d', 'day', 't0', 'c0de']\n"
     ]
    }
   ],
   "source": [
    "strings = [\"Today\", \"is\", \"a\", \"good\", \"day\", \"to\", \"code\"]\n",
    "replaced = [re.sub(\"o\", \"0\", s) for s in strings]\n",
    "print(replaced)\n"
   ]
  },
  {
   "cell_type": "markdown",
   "metadata": {},
   "source": [
    "4.  Extract all the words starting with a specific letter from a list of strings."
   ]
  },
  {
   "cell_type": "code",
   "execution_count": 12,
   "metadata": {},
   "outputs": [
    {
     "name": "stdout",
     "output_type": "stream",
     "text": [
      "['ant', 'apple', 'Ale']\n"
     ]
    }
   ],
   "source": [
    "strings = [\"ant\", \"cocacola\", \"apple\", \"Ale\", \"module\", \"python\"]\n",
    "words_starting_with_a = [word for word in strings if re.fullmatch(r'a[a-z]*', word.lower())]\n",
    "print(words_starting_with_a)\n"
   ]
  },
  {
   "cell_type": "markdown",
   "metadata": {},
   "source": [
    "5. Extract all the punctuation marks from a list of strings."
   ]
  },
  {
   "cell_type": "code",
   "execution_count": 13,
   "metadata": {},
   "outputs": [
    {
     "name": "stdout",
     "output_type": "stream",
     "text": [
      "[['!'], ['!', '!', '!', ','], ['.'], ['?'], ['?'], []]\n"
     ]
    }
   ],
   "source": [
    "strings = [\"hello!\", \"again!!!,\", \"apple.\", \"ale?\", \"module?\", \"python\"]\n",
    "punctuations = [re.findall('\\W', s) for s in strings]\n",
    "print(punctuations)\n"
   ]
  },
  {
   "cell_type": "markdown",
   "metadata": {},
   "source": [
    "6. Check whether all the strings in a list are alphanumeric."
   ]
  },
  {
   "cell_type": "code",
   "execution_count": 15,
   "metadata": {},
   "outputs": [
    {
     "name": "stdout",
     "output_type": "stream",
     "text": [
      "['success', 'success']\n"
     ]
    }
   ],
   "source": [
    "strings = [\"cherry777\", \"php?red=232da%456\", \"100%\", \"1234\"]\n",
    "are_alphanumeric = [bool(re.fullmatch(r'^\\w+$', s)) for s in strings]\n",
    "print(['success' for x in are_alphanumeric if x == True])\n"
   ]
  },
  {
   "cell_type": "markdown",
   "metadata": {},
   "source": [
    "7. Filter all the strings that contain a date in a specific format (dd-mm-yyyy) and extract the date."
   ]
  },
  {
   "cell_type": "code",
   "execution_count": 17,
   "metadata": {},
   "outputs": [
    {
     "name": "stdout",
     "output_type": "stream",
     "text": [
      "[['19-07-2023'], ['10-06-1991']]\n"
     ]
    }
   ],
   "source": [
    "strings = [\"Hello, today is 19-07-2023\", \"random string\", \"another day since 10-06-1991\", \"today is 2022-05-18\"]\n",
    "strings_with_date = [re.findall(r'\\d{2}-\\d{2}-\\d{4}', s) for s in strings if re.search(r'\\d{2}-\\d{2}-\\d{4}', s)]\n",
    "print(strings_with_date)\n"
   ]
  },
  {
   "cell_type": "markdown",
   "metadata": {},
   "source": [
    "8. Replace all occurrences of a date in a specific format (yyyy-mm-dd) with another format (mm/dd/yyyy) in strings of a list."
   ]
  },
  {
   "cell_type": "code",
   "execution_count": 18,
   "metadata": {},
   "outputs": [
    {
     "name": "stdout",
     "output_type": "stream",
     "text": [
      "['Hello, today is 07/19/2023', 'apple', 'random string', 'I was born in 08/17/1995']\n"
     ]
    }
   ],
   "source": [
    "strings = [\"Hello, today is 2023-07-19\", \"apple\", \"random string\", \"I was born in 1995-08-17\"]\n",
    "replaced_dates = [re.sub('(\\d{4})-(\\d{2})-(\\d{2})', '\\\\2/\\\\3/\\\\1', s) for s in strings]\n",
    "print(replaced_dates)\n"
   ]
  },
  {
   "cell_type": "markdown",
   "metadata": {},
   "source": [
    "9. Extract all the email addresses from strings of a list."
   ]
  },
  {
   "cell_type": "code",
   "execution_count": 20,
   "metadata": {},
   "outputs": [
    {
     "name": "stdout",
     "output_type": "stream",
     "text": [
      "[['alonso@arjeclub.org'], ['itsel@gmail.com']]\n"
     ]
    }
   ],
   "source": [
    "strings = [\"hello, my email is alonso@arjeclub.org\", \"random string\", \"Of course, I'm interested, my email is: itsel@gmail.com\"]\n",
    "emails = [re.findall(r'\\b[A-Za-z0-9._%+-]+@[A-Za-z0-9.-]+\\.[A-Z|a-z]{2,}\\b', s) for s in strings if re.search(r'\\b[A-Za-z0-9._%+-]+@[A-Za-z0-9.-]+\\.[A-Z|a-z]{2,}\\b', s)]\n",
    "print(emails)\n"
   ]
  },
  {
   "cell_type": "markdown",
   "metadata": {},
   "source": [
    "10. Filter all the strings from a list that contain at least one number."
   ]
  },
  {
   "cell_type": "code",
   "execution_count": 21,
   "metadata": {},
   "outputs": [
    {
     "name": "stdout",
     "output_type": "stream",
     "text": [
      "['hello123', '1234', 'banana123']\n"
     ]
    }
   ],
   "source": [
    "strings = [\"hello123\", \"world\", \"1234\", \"apple\", \"banana123\"]\n",
    "strings_with_numbers = [s for s in strings if re.search('\\d', s)]\n",
    "print(strings_with_numbers)\n"
   ]
  },
  {
   "cell_type": "markdown",
   "metadata": {},
   "source": [
    "11. Replace all the occurrences of a specific list of characters ['a', 'e', 'i', 'o'] in a string of a list. The list of characters to replace is ['4', '3', '1', '0'] . Create a regex python code using list comprehesion"
   ]
  },
  {
   "cell_type": "code",
   "execution_count": 6,
   "metadata": {},
   "outputs": [
    {
     "name": "stdout",
     "output_type": "stream",
     "text": [
      "['h3ll0', '4w3s0m3', '1ncr3d1bl3', 'ch00s3']\n"
     ]
    }
   ],
   "source": [
    "# string to replace characters in\n",
    "text_list = ['hello', 'awesome', 'incredible', 'choose']\n",
    "\n",
    "# dictionary mapping original characters to their replacements\n",
    "char_map = {'a': '4', 'e': '3', 'i': '1', 'o': '0'}\n",
    "\n",
    "# getting pattern string\n",
    "pattern = \"|\".join(map(re.escape, char_map.keys()))\n",
    "\n",
    "# list comprehension that uses re.sub to perform the replacements\n",
    "replaced_list = [re.sub(pattern, lambda m: char_map[m.group(0)], text) for text in text_list]\n",
    "\n",
    "print(replaced_list)"
   ]
  }
 ],
 "metadata": {
  "kernelspec": {
   "display_name": "Python 3",
   "language": "python",
   "name": "python3"
  },
  "language_info": {
   "codemirror_mode": {
    "name": "ipython",
    "version": 3
   },
   "file_extension": ".py",
   "mimetype": "text/x-python",
   "name": "python",
   "nbconvert_exporter": "python",
   "pygments_lexer": "ipython3",
   "version": "3.10.7"
  },
  "orig_nbformat": 4
 },
 "nbformat": 4,
 "nbformat_minor": 2
}
